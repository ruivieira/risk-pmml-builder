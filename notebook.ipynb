{
 "cells": [
  {
   "cell_type": "code",
   "execution_count": 1,
   "metadata": {
    "pycharm": {
     "is_executing": false
    }
   },
   "outputs": [
    {
     "name": "stderr",
     "output_type": "stream",
     "text": [
      "Using Theano backend.\n"
     ]
    },
    {
     "data": {
      "text/html": [
       "<div>\n",
       "<style scoped>\n",
       "    .dataframe tbody tr th:only-of-type {\n",
       "        vertical-align: middle;\n",
       "    }\n",
       "\n",
       "    .dataframe tbody tr th {\n",
       "        vertical-align: top;\n",
       "    }\n",
       "\n",
       "    .dataframe thead th {\n",
       "        text-align: right;\n",
       "    }\n",
       "</style>\n",
       "<table border=\"1\" class=\"dataframe\">\n",
       "  <thead>\n",
       "    <tr style=\"text-align: right;\">\n",
       "      <th></th>\n",
       "      <th>holder</th>\n",
       "      <th>holder_index</th>\n",
       "      <th>amount</th>\n",
       "      <th>dispute_risk</th>\n",
       "      <th>incidents</th>\n",
       "      <th>age</th>\n",
       "      <th>holder_risk</th>\n",
       "    </tr>\n",
       "  </thead>\n",
       "  <tbody>\n",
       "    <tr>\n",
       "      <th>0</th>\n",
       "      <td>SILVER</td>\n",
       "      <td>1</td>\n",
       "      <td>159.14</td>\n",
       "      <td>3</td>\n",
       "      <td>0</td>\n",
       "      <td>43</td>\n",
       "      <td>0</td>\n",
       "    </tr>\n",
       "    <tr>\n",
       "      <th>1</th>\n",
       "      <td>GOLD</td>\n",
       "      <td>2</td>\n",
       "      <td>22.90</td>\n",
       "      <td>1</td>\n",
       "      <td>2</td>\n",
       "      <td>68</td>\n",
       "      <td>0</td>\n",
       "    </tr>\n",
       "    <tr>\n",
       "      <th>2</th>\n",
       "      <td>STANDARD</td>\n",
       "      <td>0</td>\n",
       "      <td>210.67</td>\n",
       "      <td>5</td>\n",
       "      <td>1</td>\n",
       "      <td>29</td>\n",
       "      <td>1</td>\n",
       "    </tr>\n",
       "    <tr>\n",
       "      <th>3</th>\n",
       "      <td>PLATINUM</td>\n",
       "      <td>3</td>\n",
       "      <td>152.57</td>\n",
       "      <td>2</td>\n",
       "      <td>0</td>\n",
       "      <td>69</td>\n",
       "      <td>0</td>\n",
       "    </tr>\n",
       "    <tr>\n",
       "      <th>4</th>\n",
       "      <td>STANDARD</td>\n",
       "      <td>0</td>\n",
       "      <td>125.68</td>\n",
       "      <td>3</td>\n",
       "      <td>0</td>\n",
       "      <td>24</td>\n",
       "      <td>2</td>\n",
       "    </tr>\n",
       "  </tbody>\n",
       "</table>\n",
       "</div>"
      ],
      "text/plain": [
       "     holder  holder_index  amount  dispute_risk  incidents  age  holder_risk\n",
       "0    SILVER             1  159.14             3          0   43            0\n",
       "1      GOLD             2   22.90             1          2   68            0\n",
       "2  STANDARD             0  210.67             5          1   29            1\n",
       "3  PLATINUM             3  152.57             2          0   69            0\n",
       "4  STANDARD             0  125.68             3          0   24            2"
      ]
     },
     "execution_count": 1,
     "metadata": {},
     "output_type": "execute_result"
    }
   ],
   "source": [
    "%matplotlib inline\n",
    "import data\n",
    "import builder\n",
    "import pandas as pd\n",
    "\n",
    "df = pd.DataFrame(data.build_dataset(10000))\n",
    "df.head()"
   ]
  },
  {
   "cell_type": "markdown",
   "metadata": {
    "pycharm": {
     "name": "#%% md\n"
    }
   },
   "source": [
    "## Dispute Risk (DR) model\n",
    "Split the datasets:"
   ]
  },
  {
   "cell_type": "code",
   "execution_count": 2,
   "metadata": {
    "pycharm": {
     "is_executing": false,
     "name": "#%%\n"
    }
   },
   "outputs": [],
   "source": [
    "from sklearn.model_selection import train_test_split\n",
    "\n",
    "DR_outputs = df['dispute_risk']\n",
    "DR_inputs = df[['amount', 'holder_index']]\n",
    "\n",
    "DR_X_train, DR_X_test, DR_y_train, DR_y_test = train_test_split(DR_inputs, DR_outputs, test_size=0.4, random_state=23)"
   ]
  },
  {
   "cell_type": "markdown",
   "metadata": {
    "pycharm": {
     "name": "#%% md\n"
    }
   },
   "source": [
    "### Linear regression"
   ]
  },
  {
   "cell_type": "code",
   "execution_count": 3,
   "metadata": {
    "pycharm": {
     "is_executing": false,
     "name": "#%%\n"
    }
   },
   "outputs": [],
   "source": [
    "DR_lr_pipeline = builder.build_LR_pipeline(DR_X_train, DR_y_train)"
   ]
  },
  {
   "cell_type": "code",
   "execution_count": 4,
   "metadata": {
    "pycharm": {
     "is_executing": false,
     "name": "#%%\n"
    }
   },
   "outputs": [
    {
     "name": "stdout",
     "output_type": "stream",
     "text": [
      "0.8109130506118416\n"
     ]
    }
   ],
   "source": [
    "DR_lr_predictions = DR_lr_pipeline.predict(DR_X_test)\n",
    "print(DR_lr_pipeline.score(DR_X_test, DR_y_test))"
   ]
  },
  {
   "cell_type": "markdown",
   "metadata": {},
   "source": [
    "### Random forest"
   ]
  },
  {
   "cell_type": "code",
   "execution_count": 5,
   "metadata": {
    "pycharm": {
     "is_executing": false,
     "name": "#%%\n"
    }
   },
   "outputs": [
    {
     "name": "stderr",
     "output_type": "stream",
     "text": [
      "/Users/rcardoso/.condaenvs/risk-pmml-builder/lib/python3.7/site-packages/sklearn/ensemble/forest.py:245: FutureWarning: The default value of n_estimators will change from 10 in version 0.20 to 100 in 0.22.\n",
      "  \"10 in version 0.20 to 100 in 0.22.\", FutureWarning)\n"
     ]
    }
   ],
   "source": [
    "DR_rf_pipeline = builder.build_RF_pipeline(DR_X_train, DR_y_train)"
   ]
  },
  {
   "cell_type": "code",
   "execution_count": 6,
   "metadata": {
    "pycharm": {
     "is_executing": false,
     "name": "#%%\n"
    }
   },
   "outputs": [
    {
     "name": "stdout",
     "output_type": "stream",
     "text": [
      "0.9998735688698461\n"
     ]
    }
   ],
   "source": [
    "DR_rf_predictions = DR_rf_pipeline.predict(DR_X_test)\n",
    "print(DR_rf_pipeline.score(DR_X_test, DR_y_test))"
   ]
  },
  {
   "cell_type": "markdown",
   "metadata": {
    "pycharm": {
     "name": "#%% md\n"
    }
   },
   "source": [
    "### ANN"
   ]
  },
  {
   "cell_type": "code",
   "execution_count": 7,
   "metadata": {
    "pycharm": {
     "is_executing": false,
     "name": "#%%\n"
    }
   },
   "outputs": [
    {
     "name": "stdout",
     "output_type": "stream",
     "text": [
      "Train on 6000 samples, validate on 4000 samples\n",
      "Epoch 1/64\n",
      "6000/6000 [==============================] - 1s 90us/step - loss: 1.0289 - val_loss: 0.1861\n",
      "Epoch 2/64\n",
      "6000/6000 [==============================] - 0s 50us/step - loss: 0.2035 - val_loss: 0.1595\n",
      "Epoch 3/64\n",
      "6000/6000 [==============================] - 0s 64us/step - loss: 0.2129 - val_loss: 0.2085\n",
      "Epoch 4/64\n",
      "6000/6000 [==============================] - 0s 74us/step - loss: 0.2158 - val_loss: 0.1653\n",
      "Epoch 5/64\n",
      "6000/6000 [==============================] - 0s 55us/step - loss: 0.2250 - val_loss: 0.1593\n",
      "Epoch 6/64\n",
      "6000/6000 [==============================] - 0s 47us/step - loss: 0.2110 - val_loss: 0.1510\n",
      "Epoch 7/64\n",
      "6000/6000 [==============================] - 0s 47us/step - loss: 0.2236 - val_loss: 0.2770\n",
      "Epoch 8/64\n",
      "6000/6000 [==============================] - 0s 52us/step - loss: 0.2298 - val_loss: 0.1701\n",
      "Epoch 9/64\n",
      "6000/6000 [==============================] - 0s 53us/step - loss: 0.2117 - val_loss: 0.3212\n",
      "Epoch 10/64\n",
      "6000/6000 [==============================] - 0s 48us/step - loss: 0.1988 - val_loss: 0.2441\n",
      "Epoch 11/64\n",
      "6000/6000 [==============================] - 0s 47us/step - loss: 0.2040 - val_loss: 0.1362\n",
      "Epoch 12/64\n",
      "6000/6000 [==============================] - 0s 56us/step - loss: 0.1841 - val_loss: 0.1472\n",
      "Epoch 13/64\n",
      "6000/6000 [==============================] - 0s 63us/step - loss: 0.1733 - val_loss: 0.1379\n",
      "Epoch 14/64\n",
      "6000/6000 [==============================] - 0s 61us/step - loss: 0.1821 - val_loss: 0.3441\n",
      "Epoch 15/64\n",
      "6000/6000 [==============================] - 0s 63us/step - loss: 0.2067 - val_loss: 0.1230\n",
      "Epoch 16/64\n",
      "6000/6000 [==============================] - 0s 49us/step - loss: 0.1738 - val_loss: 0.2954\n",
      "Epoch 17/64\n",
      "6000/6000 [==============================] - 0s 53us/step - loss: 0.1779 - val_loss: 0.2005\n",
      "Epoch 18/64\n",
      "6000/6000 [==============================] - 0s 49us/step - loss: 0.1656 - val_loss: 0.1337\n",
      "Epoch 19/64\n",
      "6000/6000 [==============================] - 0s 48us/step - loss: 0.1605 - val_loss: 0.1305\n",
      "Epoch 20/64\n",
      "6000/6000 [==============================] - 0s 56us/step - loss: 0.1656 - val_loss: 0.2980\n",
      "Epoch 21/64\n",
      "6000/6000 [==============================] - 0s 57us/step - loss: 0.1789 - val_loss: 0.1739\n",
      "Epoch 22/64\n",
      "6000/6000 [==============================] - 0s 50us/step - loss: 0.1566 - val_loss: 0.2400\n",
      "Epoch 23/64\n",
      "6000/6000 [==============================] - 0s 54us/step - loss: 0.1626 - val_loss: 0.1186\n",
      "Epoch 24/64\n",
      "6000/6000 [==============================] - 0s 47us/step - loss: 0.1529 - val_loss: 0.1578\n",
      "Epoch 25/64\n",
      "6000/6000 [==============================] - 0s 48us/step - loss: 0.1631 - val_loss: 0.1177\n",
      "Epoch 26/64\n",
      "6000/6000 [==============================] - 0s 60us/step - loss: 0.1641 - val_loss: 0.1254\n",
      "Epoch 27/64\n",
      "6000/6000 [==============================] - 1s 97us/step - loss: 0.1510 - val_loss: 0.1165\n",
      "Epoch 28/64\n",
      "6000/6000 [==============================] - 0s 48us/step - loss: 0.1459 - val_loss: 0.1790\n",
      "Epoch 29/64\n",
      "6000/6000 [==============================] - 0s 47us/step - loss: 0.1644 - val_loss: 0.1735\n",
      "Epoch 30/64\n",
      "6000/6000 [==============================] - 0s 47us/step - loss: 0.1436 - val_loss: 0.1520\n",
      "Epoch 31/64\n",
      "6000/6000 [==============================] - 0s 49us/step - loss: 0.1664 - val_loss: 0.3773\n",
      "Epoch 32/64\n",
      "6000/6000 [==============================] - 0s 48us/step - loss: 0.1453 - val_loss: 0.1227\n",
      "Epoch 33/64\n",
      "6000/6000 [==============================] - 0s 50us/step - loss: 0.1527 - val_loss: 0.2803\n",
      "Epoch 34/64\n",
      "6000/6000 [==============================] - 0s 48us/step - loss: 0.1533 - val_loss: 0.1502\n",
      "Epoch 35/64\n",
      "6000/6000 [==============================] - 0s 49us/step - loss: 0.1515 - val_loss: 0.1284\n",
      "Epoch 36/64\n",
      "6000/6000 [==============================] - 0s 62us/step - loss: 0.1522 - val_loss: 0.1279\n",
      "Epoch 37/64\n",
      "6000/6000 [==============================] - 0s 83us/step - loss: 0.1503 - val_loss: 0.1946\n",
      "Epoch 38/64\n",
      "6000/6000 [==============================] - 0s 53us/step - loss: 0.1460 - val_loss: 0.1298\n",
      "Epoch 39/64\n",
      "6000/6000 [==============================] - 0s 53us/step - loss: 0.1475 - val_loss: 0.1769\n",
      "Epoch 40/64\n",
      "6000/6000 [==============================] - 0s 51us/step - loss: 0.1635 - val_loss: 0.1859\n",
      "Epoch 41/64\n",
      "6000/6000 [==============================] - 0s 48us/step - loss: 0.1478 - val_loss: 0.1185\n",
      "Epoch 42/64\n",
      "6000/6000 [==============================] - 0s 47us/step - loss: 0.1414 - val_loss: 0.1278\n",
      "Epoch 43/64\n",
      "6000/6000 [==============================] - 0s 48us/step - loss: 0.1484 - val_loss: 0.1177\n",
      "Epoch 44/64\n",
      "6000/6000 [==============================] - 0s 46us/step - loss: 0.1496 - val_loss: 0.1892\n",
      "Epoch 45/64\n",
      "6000/6000 [==============================] - 0s 46us/step - loss: 0.1448 - val_loss: 0.1170\n",
      "Epoch 46/64\n",
      "6000/6000 [==============================] - 0s 50us/step - loss: 0.1392 - val_loss: 0.1899\n",
      "Epoch 47/64\n",
      "6000/6000 [==============================] - 0s 49us/step - loss: 0.1476 - val_loss: 0.1159\n",
      "Epoch 48/64\n",
      "6000/6000 [==============================] - 0s 56us/step - loss: 0.1374 - val_loss: 0.1614\n",
      "Epoch 49/64\n",
      "6000/6000 [==============================] - 0s 64us/step - loss: 0.1400 - val_loss: 0.1242\n",
      "Epoch 50/64\n",
      "6000/6000 [==============================] - 0s 61us/step - loss: 0.1435 - val_loss: 0.1195\n",
      "Epoch 51/64\n",
      "6000/6000 [==============================] - 0s 54us/step - loss: 0.1421 - val_loss: 0.1150\n",
      "Epoch 52/64\n",
      "6000/6000 [==============================] - 0s 50us/step - loss: 0.1383 - val_loss: 0.1265\n",
      "Epoch 53/64\n",
      "6000/6000 [==============================] - 0s 48us/step - loss: 0.1394 - val_loss: 0.1765\n",
      "Epoch 54/64\n",
      "6000/6000 [==============================] - 0s 47us/step - loss: 0.1365 - val_loss: 0.1916\n",
      "Epoch 55/64\n",
      "6000/6000 [==============================] - 0s 47us/step - loss: 0.1350 - val_loss: 0.1144\n",
      "Epoch 56/64\n",
      "6000/6000 [==============================] - 0s 45us/step - loss: 0.1418 - val_loss: 0.1193\n",
      "Epoch 57/64\n",
      "6000/6000 [==============================] - 0s 45us/step - loss: 0.1411 - val_loss: 0.1555\n",
      "Epoch 58/64\n",
      "6000/6000 [==============================] - 0s 50us/step - loss: 0.1394 - val_loss: 0.1191\n",
      "Epoch 59/64\n",
      "6000/6000 [==============================] - 0s 55us/step - loss: 0.1353 - val_loss: 0.1184\n",
      "Epoch 60/64\n",
      "6000/6000 [==============================] - 0s 55us/step - loss: 0.1375 - val_loss: 0.1285\n",
      "Epoch 61/64\n",
      "6000/6000 [==============================] - 0s 52us/step - loss: 0.1312 - val_loss: 0.1162\n",
      "Epoch 62/64\n",
      "6000/6000 [==============================] - 0s 50us/step - loss: 0.1416 - val_loss: 0.1515\n",
      "Epoch 63/64\n",
      "6000/6000 [==============================] - 0s 48us/step - loss: 0.1329 - val_loss: 0.1432\n",
      "Epoch 64/64\n",
      "6000/6000 [==============================] - 0s 52us/step - loss: 0.1378 - val_loss: 0.1157\n"
     ]
    },
    {
     "data": {
      "text/plain": [
       "<keras.callbacks.History at 0x12ce57128>"
      ]
     },
     "execution_count": 7,
     "metadata": {},
     "output_type": "execute_result"
    }
   ],
   "source": [
    "from keras.models import Sequential\n",
    "from keras.layers import Dense, Activation\n",
    "def create_model():\n",
    "    model = Sequential()\n",
    "    model.add(Dense(64, input_dim=2))\n",
    "    model.add(Activation('relu'))\n",
    "    model.add(Dense(1))\n",
    "    model.compile(loss='mean_squared_error', optimizer='adam')\n",
    "    return model\n",
    "\n",
    "from keras.wrappers.scikit_learn import KerasRegressor\n",
    "from sklearn.pipeline import Pipeline\n",
    "from sklearn.model_selection import cross_val_score, KFold\n",
    "\n",
    "model = create_model()\n",
    "model.fit(DR_X_train, DR_y_train, epochs=64, batch_size=8, verbose=1,\n",
    "          validation_data=(DR_X_test, DR_y_test))"
   ]
  },
  {
   "cell_type": "code",
   "execution_count": 8,
   "metadata": {
    "pycharm": {
     "is_executing": false,
     "name": "#%%\n"
    }
   },
   "outputs": [
    {
     "name": "stdout",
     "output_type": "stream",
     "text": [
      "4000/4000 [==============================] - 0s 2us/step\n",
      "[[2.1083066]\n",
      " [1.6470735]\n",
      " [2.8334277]\n",
      " ...\n",
      " [2.7838342]\n",
      " [1.5119579]\n",
      " [0.8986132]]\n"
     ]
    }
   ],
   "source": [
    "DR_ann_predictiors = model.predict(DR_X_test, verbose=1)\n",
    "print(DR_ann_predictiors)"
   ]
  },
  {
   "cell_type": "markdown",
   "metadata": {},
   "source": [
    "### Comparison"
   ]
  },
  {
   "cell_type": "code",
   "execution_count": 10,
   "metadata": {
    "pycharm": {
     "is_executing": false,
     "name": "#%%\n"
    }
   },
   "outputs": [
    {
     "data": {
      "text/html": [
       "<div>\n",
       "<style scoped>\n",
       "    .dataframe tbody tr th:only-of-type {\n",
       "        vertical-align: middle;\n",
       "    }\n",
       "\n",
       "    .dataframe tbody tr th {\n",
       "        vertical-align: top;\n",
       "    }\n",
       "\n",
       "    .dataframe thead th {\n",
       "        text-align: right;\n",
       "    }\n",
       "</style>\n",
       "<table border=\"1\" class=\"dataframe\">\n",
       "  <thead>\n",
       "    <tr style=\"text-align: right;\">\n",
       "      <th></th>\n",
       "      <th>LR</th>\n",
       "      <th>RF</th>\n",
       "      <th>ANN</th>\n",
       "      <th>truth</th>\n",
       "    </tr>\n",
       "  </thead>\n",
       "  <tbody>\n",
       "    <tr>\n",
       "      <th>6326</th>\n",
       "      <td>2</td>\n",
       "      <td>2</td>\n",
       "      <td>2</td>\n",
       "      <td>2</td>\n",
       "    </tr>\n",
       "    <tr>\n",
       "      <th>5185</th>\n",
       "      <td>1</td>\n",
       "      <td>2</td>\n",
       "      <td>1</td>\n",
       "      <td>2</td>\n",
       "    </tr>\n",
       "    <tr>\n",
       "      <th>2495</th>\n",
       "      <td>2</td>\n",
       "      <td>3</td>\n",
       "      <td>2</td>\n",
       "      <td>3</td>\n",
       "    </tr>\n",
       "    <tr>\n",
       "      <th>2765</th>\n",
       "      <td>2</td>\n",
       "      <td>2</td>\n",
       "      <td>2</td>\n",
       "      <td>2</td>\n",
       "    </tr>\n",
       "    <tr>\n",
       "      <th>9303</th>\n",
       "      <td>2</td>\n",
       "      <td>2</td>\n",
       "      <td>1</td>\n",
       "      <td>2</td>\n",
       "    </tr>\n",
       "    <tr>\n",
       "      <th>322</th>\n",
       "      <td>1</td>\n",
       "      <td>1</td>\n",
       "      <td>1</td>\n",
       "      <td>1</td>\n",
       "    </tr>\n",
       "    <tr>\n",
       "      <th>4164</th>\n",
       "      <td>3</td>\n",
       "      <td>3</td>\n",
       "      <td>3</td>\n",
       "      <td>3</td>\n",
       "    </tr>\n",
       "    <tr>\n",
       "      <th>7198</th>\n",
       "      <td>3</td>\n",
       "      <td>3</td>\n",
       "      <td>3</td>\n",
       "      <td>3</td>\n",
       "    </tr>\n",
       "    <tr>\n",
       "      <th>2626</th>\n",
       "      <td>1</td>\n",
       "      <td>1</td>\n",
       "      <td>1</td>\n",
       "      <td>1</td>\n",
       "    </tr>\n",
       "    <tr>\n",
       "      <th>4492</th>\n",
       "      <td>3</td>\n",
       "      <td>3</td>\n",
       "      <td>2</td>\n",
       "      <td>3</td>\n",
       "    </tr>\n",
       "    <tr>\n",
       "      <th>6493</th>\n",
       "      <td>2</td>\n",
       "      <td>3</td>\n",
       "      <td>2</td>\n",
       "      <td>3</td>\n",
       "    </tr>\n",
       "    <tr>\n",
       "      <th>8186</th>\n",
       "      <td>4</td>\n",
       "      <td>4</td>\n",
       "      <td>4</td>\n",
       "      <td>4</td>\n",
       "    </tr>\n",
       "    <tr>\n",
       "      <th>3115</th>\n",
       "      <td>3</td>\n",
       "      <td>4</td>\n",
       "      <td>4</td>\n",
       "      <td>4</td>\n",
       "    </tr>\n",
       "    <tr>\n",
       "      <th>4357</th>\n",
       "      <td>2</td>\n",
       "      <td>2</td>\n",
       "      <td>2</td>\n",
       "      <td>2</td>\n",
       "    </tr>\n",
       "    <tr>\n",
       "      <th>2869</th>\n",
       "      <td>0</td>\n",
       "      <td>1</td>\n",
       "      <td>0</td>\n",
       "      <td>1</td>\n",
       "    </tr>\n",
       "    <tr>\n",
       "      <th>4283</th>\n",
       "      <td>2</td>\n",
       "      <td>2</td>\n",
       "      <td>2</td>\n",
       "      <td>2</td>\n",
       "    </tr>\n",
       "    <tr>\n",
       "      <th>862</th>\n",
       "      <td>1</td>\n",
       "      <td>2</td>\n",
       "      <td>1</td>\n",
       "      <td>2</td>\n",
       "    </tr>\n",
       "    <tr>\n",
       "      <th>9177</th>\n",
       "      <td>2</td>\n",
       "      <td>2</td>\n",
       "      <td>2</td>\n",
       "      <td>2</td>\n",
       "    </tr>\n",
       "    <tr>\n",
       "      <th>1277</th>\n",
       "      <td>3</td>\n",
       "      <td>4</td>\n",
       "      <td>3</td>\n",
       "      <td>4</td>\n",
       "    </tr>\n",
       "    <tr>\n",
       "      <th>1939</th>\n",
       "      <td>1</td>\n",
       "      <td>1</td>\n",
       "      <td>1</td>\n",
       "      <td>1</td>\n",
       "    </tr>\n",
       "  </tbody>\n",
       "</table>\n",
       "</div>"
      ],
      "text/plain": [
       "      LR  RF  ANN  truth\n",
       "6326   2   2    2      2\n",
       "5185   1   2    1      2\n",
       "2495   2   3    2      3\n",
       "2765   2   2    2      2\n",
       "9303   2   2    1      2\n",
       "322    1   1    1      1\n",
       "4164   3   3    3      3\n",
       "7198   3   3    3      3\n",
       "2626   1   1    1      1\n",
       "4492   3   3    2      3\n",
       "6493   2   3    2      3\n",
       "8186   4   4    4      4\n",
       "3115   3   4    4      4\n",
       "4357   2   2    2      2\n",
       "2869   0   1    0      1\n",
       "4283   2   2    2      2\n",
       "862    1   2    1      2\n",
       "9177   2   2    2      2\n",
       "1277   3   4    3      4\n",
       "1939   1   1    1      1"
      ]
     },
     "execution_count": 10,
     "metadata": {},
     "output_type": "execute_result"
    }
   ],
   "source": [
    "DR_result = pd.DataFrame({'LR': DR_lr_predictions.astype(int), \n",
    "                          'RF': DR_rf_predictions.astype(int),\n",
    "                          'ANN': [int(p[0]) for p in DR_ann_predictiors.tolist()],\n",
    "                          'truth': DR_y_test})\n",
    "DR_result.head(20)"
   ]
  },
  {
   "cell_type": "code",
   "execution_count": 54,
   "metadata": {},
   "outputs": [
    {
     "data": {
      "text/plain": [
       "<matplotlib.legend.Legend at 0x137b798d0>"
      ]
     },
     "execution_count": 54,
     "metadata": {},
     "output_type": "execute_result"
    },
    {
     "data": {
      "image/png": "[encoded data removed]",
      "text/plain": [
       "<Figure size 1440x432 with 2 Axes>"
      ]
     },
     "metadata": {
      "needs_background": "light"
     },
     "output_type": "display_data"
    }
   ],
   "source": [
    "import numpy as np\n",
    "import matplotlib.pyplot as plt\n",
    "plt.rcParams[\"figure.figsize\"] = (20,6)\n",
    "\n",
    "holder_index = 2\n",
    "testing = pd.DataFrame({'amount': np.linspace(0, DR_X_test['amount'].max(), 100), 'holder_index': holder_index})\n",
    "sub_test = df[df['holder_index']==holder_index]\n",
    "\n",
    "LR_predictions = DR_lr_pipeline.predict(testing).astype(int)\n",
    "plt.subplot(121)\n",
    "plt.plot(testing['amount'], LR_predictions, color='red', label='Predicted')\n",
    "plt.scatter(sub_test['amount'], sub_test['dispute_risk'], color='black', label='truth')\n",
    "plt.legend()\n",
    "plt.subplot(122)\n",
    "RF_predictions = DR_rf_pipeline.predict(testing).astype(int)\n",
    "plt.plot(testing['amount'], RF_predictions, color='red', label='Predicted')\n",
    "plt.scatter(sub_test['amount'], sub_test['dispute_risk'], color='black', label='truth')\n",
    "plt.legend()"
   ]
  },
  {
   "cell_type": "markdown",
   "metadata": {
    "pycharm": {
     "name": "#%% md\n"
    }
   },
   "source": [
    "## Card Holder (CH) model"
   ]
  },
  {
   "cell_type": "code",
   "execution_count": null,
   "metadata": {
    "pycharm": {
     "is_executing": false,
     "name": "#%%\n"
    }
   },
   "outputs": [],
   "source": [
    "CH_outputs = df['holder_risk']\n",
    "CH_inputs = df[['age', 'holder_index', 'incidents']]\n",
    "\n",
    "CH_X_train, CH_X_test, CH_y_train, CH_y_test = train_test_split(CH_inputs, CH_outputs, test_size=0.4, random_state=23)"
   ]
  },
  {
   "cell_type": "markdown",
   "metadata": {},
   "source": [
    "### Linear regression"
   ]
  },
  {
   "cell_type": "code",
   "execution_count": null,
   "metadata": {
    "pycharm": {
     "is_executing": false,
     "name": "#%%\n"
    }
   },
   "outputs": [],
   "source": [
    "CH_lr_pipeline = builder.build_LR_pipeline(CH_X_train, CH_y_train)"
   ]
  },
  {
   "cell_type": "code",
   "execution_count": null,
   "metadata": {
    "pycharm": {
     "is_executing": false,
     "name": "#%%\n"
    }
   },
   "outputs": [],
   "source": [
    "CH_lr_predictions = CH_lr_pipeline.predict(CH_X_test)\n",
    "print(CH_lr_pipeline.score(CH_X_test, CH_y_test))"
   ]
  },
  {
   "cell_type": "markdown",
   "metadata": {},
   "source": [
    "### Random forest"
   ]
  },
  {
   "cell_type": "code",
   "execution_count": null,
   "metadata": {
    "pycharm": {
     "is_executing": false,
     "name": "#%%\n"
    }
   },
   "outputs": [],
   "source": [
    "CH_rf_pipeline = builder.build_RF_pipeline(CH_X_train, CH_y_train)"
   ]
  },
  {
   "cell_type": "code",
   "execution_count": null,
   "metadata": {
    "pycharm": {
     "is_executing": false,
     "name": "#%%\n"
    }
   },
   "outputs": [],
   "source": [
    "CH_rf_predictions = CH_rf_pipeline.predict(CH_X_test)\n",
    "print(CH_rf_pipeline.score(CH_X_test, CH_y_test))"
   ]
  },
  {
   "cell_type": "code",
   "execution_count": null,
   "metadata": {
    "pycharm": {
     "is_executing": false,
     "name": "#%%\n"
    }
   },
   "outputs": [],
   "source": [
    "CH_result = pd.DataFrame({'LR': CH_lr_predictions.astype(int), 'RF': CH_rf_predictions.astype(int), 'truth': CH_y_test})\n",
    "CH_result.head(20)"
   ]
  }
 ],
 "metadata": {
  "kernelspec": {
   "display_name": "Python [conda env:risk-pmml-builder] *",
   "language": "python",
   "name": "conda-env-risk-pmml-builder-py"
  },
  "language_info": {
   "codemirror_mode": {
    "name": "ipython",
    "version": 3
   },
   "file_extension": ".py",
   "mimetype": "text/x-python",
   "name": "python",
   "nbconvert_exporter": "python",
   "pygments_lexer": "ipython3",
   "version": "3.7.3"
  },
  "pycharm": {
   "stem_cell": {
    "cell_type": "raw",
    "metadata": {
     "collapsed": false
    },
    "source": []
   }
  }
 },
 "nbformat": 4,
 "nbformat_minor": 1
}
