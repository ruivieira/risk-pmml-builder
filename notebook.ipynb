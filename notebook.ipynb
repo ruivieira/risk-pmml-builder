{
 "cells": [
  {
   "cell_type": "code",
   "execution_count": 1,
   "metadata": {
    "pycharm": {
     "is_executing": false
    }
   },
   "outputs": [
    {
     "name": "stderr",
     "output_type": "stream",
     "text": [
      "Using Theano backend.\n"
     ]
    },
    {
     "data": {
      "text/html": [
       "<div>\n",
       "<style scoped>\n",
       "    .dataframe tbody tr th:only-of-type {\n",
       "        vertical-align: middle;\n",
       "    }\n",
       "\n",
       "    .dataframe tbody tr th {\n",
       "        vertical-align: top;\n",
       "    }\n",
       "\n",
       "    .dataframe thead th {\n",
       "        text-align: right;\n",
       "    }\n",
       "</style>\n",
       "<table border=\"1\" class=\"dataframe\">\n",
       "  <thead>\n",
       "    <tr style=\"text-align: right;\">\n",
       "      <th></th>\n",
       "      <th>holder</th>\n",
       "      <th>holder_index</th>\n",
       "      <th>amount</th>\n",
       "      <th>dispute_risk</th>\n",
       "      <th>incidents</th>\n",
       "      <th>age</th>\n",
       "      <th>holder_risk</th>\n",
       "    </tr>\n",
       "  </thead>\n",
       "  <tbody>\n",
       "    <tr>\n",
       "      <th>0</th>\n",
       "      <td>STANDARD</td>\n",
       "      <td>0</td>\n",
       "      <td>172.92</td>\n",
       "      <td>4</td>\n",
       "      <td>0</td>\n",
       "      <td>59</td>\n",
       "      <td>1</td>\n",
       "    </tr>\n",
       "    <tr>\n",
       "      <th>1</th>\n",
       "      <td>GOLD</td>\n",
       "      <td>2</td>\n",
       "      <td>173.46</td>\n",
       "      <td>3</td>\n",
       "      <td>1</td>\n",
       "      <td>19</td>\n",
       "      <td>0</td>\n",
       "    </tr>\n",
       "    <tr>\n",
       "      <th>2</th>\n",
       "      <td>STANDARD</td>\n",
       "      <td>0</td>\n",
       "      <td>63.66</td>\n",
       "      <td>2</td>\n",
       "      <td>1</td>\n",
       "      <td>65</td>\n",
       "      <td>1</td>\n",
       "    </tr>\n",
       "    <tr>\n",
       "      <th>3</th>\n",
       "      <td>STANDARD</td>\n",
       "      <td>0</td>\n",
       "      <td>111.81</td>\n",
       "      <td>3</td>\n",
       "      <td>0</td>\n",
       "      <td>24</td>\n",
       "      <td>2</td>\n",
       "    </tr>\n",
       "    <tr>\n",
       "      <th>4</th>\n",
       "      <td>SILVER</td>\n",
       "      <td>1</td>\n",
       "      <td>136.57</td>\n",
       "      <td>2</td>\n",
       "      <td>0</td>\n",
       "      <td>52</td>\n",
       "      <td>0</td>\n",
       "    </tr>\n",
       "  </tbody>\n",
       "</table>\n",
       "</div>"
      ],
      "text/plain": [
       "     holder  holder_index  amount  dispute_risk  incidents  age  holder_risk\n",
       "0  STANDARD             0  172.92             4          0   59            1\n",
       "1      GOLD             2  173.46             3          1   19            0\n",
       "2  STANDARD             0   63.66             2          1   65            1\n",
       "3  STANDARD             0  111.81             3          0   24            2\n",
       "4    SILVER             1  136.57             2          0   52            0"
      ]
     },
     "execution_count": 1,
     "metadata": {},
     "output_type": "execute_result"
    }
   ],
   "source": [
    "%matplotlib inline\n",
    "import data\n",
    "import builder\n",
    "import pandas as pd\n",
    "\n",
    "df = pd.DataFrame(data.build_dataset(10000))\n",
    "df.head()"
   ]
  },
  {
   "cell_type": "markdown",
   "metadata": {
    "pycharm": {
     "name": "#%% md\n"
    }
   },
   "source": [
    "## Dispute Risk (DR) model\n",
    "Split the datasets:"
   ]
  },
  {
   "cell_type": "code",
   "execution_count": 2,
   "metadata": {
    "pycharm": {
     "is_executing": false,
     "name": "#%%\n"
    }
   },
   "outputs": [],
   "source": [
    "from sklearn.model_selection import train_test_split\n",
    "\n",
    "DR_outputs = df['dispute_risk']\n",
    "DR_inputs = df[['amount', 'holder_index']]\n",
    "\n",
    "DR_X_train, DR_X_test, DR_y_train, DR_y_test = train_test_split(DR_inputs, DR_outputs, test_size=0.4, random_state=23)"
   ]
  },
  {
   "cell_type": "markdown",
   "metadata": {
    "pycharm": {
     "name": "#%% md\n"
    }
   },
   "source": [
    "### Linear regression"
   ]
  },
  {
   "cell_type": "code",
   "execution_count": 3,
   "metadata": {
    "pycharm": {
     "is_executing": false,
     "name": "#%%\n"
    }
   },
   "outputs": [],
   "source": [
    "DR_lr_pipeline = builder.build_LR_pipeline(DR_X_train, DR_y_train)"
   ]
  },
  {
   "cell_type": "code",
   "execution_count": 4,
   "metadata": {
    "pycharm": {
     "is_executing": false,
     "name": "#%%\n"
    }
   },
   "outputs": [
    {
     "name": "stdout",
     "output_type": "stream",
     "text": [
      "0.8087510602556868\n"
     ]
    }
   ],
   "source": [
    "DR_lr_predictions = DR_lr_pipeline.predict(DR_X_test)\n",
    "print(DR_lr_pipeline.score(DR_X_test, DR_y_test))"
   ]
  },
  {
   "cell_type": "markdown",
   "metadata": {},
   "source": [
    "### Random forest"
   ]
  },
  {
   "cell_type": "code",
   "execution_count": 5,
   "metadata": {},
   "outputs": [
    {
     "name": "stdout",
     "output_type": "stream",
     "text": [
      "Fitting 3 folds for each of 100 candidates, totalling 300 fits\n"
     ]
    },
    {
     "name": "stderr",
     "output_type": "stream",
     "text": [
      "[Parallel(n_jobs=-1)]: Using backend LokyBackend with 8 concurrent workers.\n",
      "[Parallel(n_jobs=-1)]: Done  34 tasks      | elapsed:   27.9s\n",
      "[Parallel(n_jobs=-1)]: Done 184 tasks      | elapsed:  2.0min\n",
      "[Parallel(n_jobs=-1)]: Done 300 out of 300 | elapsed:  3.0min finished\n"
     ]
    },
    {
     "name": "stdout",
     "output_type": "stream",
     "text": [
      "RandomForestRegressor(bootstrap=True, criterion='mse', max_depth=55,\n",
      "                      max_features='auto', max_leaf_nodes=None,\n",
      "                      min_impurity_decrease=0.0, min_impurity_split=None,\n",
      "                      min_samples_leaf=1, min_samples_split=2,\n",
      "                      min_weight_fraction_leaf=0.0, n_estimators=200,\n",
      "                      n_jobs=None, oob_score=False, random_state=None,\n",
      "                      verbose=0, warm_start=False)\n"
     ]
    }
   ],
   "source": [
    "DR_rf = builder.RF_estimation(DR_X_train, DR_y_train, estimator_steps=5, depth_steps=5)"
   ]
  },
  {
   "cell_type": "code",
   "execution_count": 6,
   "metadata": {
    "pycharm": {
     "is_executing": false,
     "name": "#%%\n"
    }
   },
   "outputs": [],
   "source": [
    "DR_rf_pipeline = builder.build_RF_pipeline(DR_X_train, DR_y_train, DR_rf)"
   ]
  },
  {
   "cell_type": "code",
   "execution_count": 7,
   "metadata": {
    "pycharm": {
     "is_executing": false,
     "name": "#%%\n"
    }
   },
   "outputs": [
    {
     "name": "stdout",
     "output_type": "stream",
     "text": [
      "0.9999600138118908\n"
     ]
    }
   ],
   "source": [
    "DR_rf_predictions = DR_rf_pipeline.predict(DR_X_test)\n",
    "print(DR_rf_pipeline.score(DR_X_test, DR_y_test))"
   ]
  },
  {
   "cell_type": "markdown",
   "metadata": {
    "pycharm": {
     "name": "#%% md\n"
    }
   },
   "source": [
    "### ANN"
   ]
  },
  {
   "cell_type": "code",
   "execution_count": 8,
   "metadata": {
    "pycharm": {
     "is_executing": false,
     "name": "#%%\n"
    }
   },
   "outputs": [
    {
     "name": "stdout",
     "output_type": "stream",
     "text": [
      "Train on 6000 samples, validate on 4000 samples\n",
      "Epoch 1/64\n",
      "6000/6000 [==============================] - 0s 78us/step - loss: 18.4491 - val_loss: 0.2598\n",
      "Epoch 2/64\n",
      "6000/6000 [==============================] - 0s 56us/step - loss: 0.2383 - val_loss: 0.2244\n",
      "Epoch 3/64\n",
      "6000/6000 [==============================] - 0s 57us/step - loss: 0.1940 - val_loss: 0.1661\n",
      "Epoch 4/64\n",
      "6000/6000 [==============================] - 0s 50us/step - loss: 0.1768 - val_loss: 0.1442\n",
      "Epoch 5/64\n",
      "6000/6000 [==============================] - 0s 48us/step - loss: 0.1722 - val_loss: 0.1609\n",
      "Epoch 6/64\n",
      "6000/6000 [==============================] - 0s 49us/step - loss: 0.1678 - val_loss: 0.1313\n",
      "Epoch 7/64\n",
      "6000/6000 [==============================] - 0s 49us/step - loss: 0.1805 - val_loss: 0.2634\n",
      "Epoch 8/64\n",
      "6000/6000 [==============================] - 0s 48us/step - loss: 0.1698 - val_loss: 0.1496\n",
      "Epoch 9/64\n",
      "6000/6000 [==============================] - 0s 51us/step - loss: 0.1726 - val_loss: 0.6432\n",
      "Epoch 10/64\n",
      "6000/6000 [==============================] - 0s 48us/step - loss: 0.2008 - val_loss: 0.1789\n",
      "Epoch 11/64\n",
      "6000/6000 [==============================] - 0s 47us/step - loss: 0.1704 - val_loss: 0.2000\n",
      "Epoch 12/64\n",
      "6000/6000 [==============================] - 0s 49us/step - loss: 0.1698 - val_loss: 0.2279\n",
      "Epoch 13/64\n",
      "6000/6000 [==============================] - 0s 48us/step - loss: 0.1826 - val_loss: 0.1372\n",
      "Epoch 14/64\n",
      "6000/6000 [==============================] - 0s 58us/step - loss: 0.1874 - val_loss: 0.1289\n",
      "Epoch 15/64\n",
      "6000/6000 [==============================] - 0s 49us/step - loss: 0.1711 - val_loss: 0.2123\n",
      "Epoch 16/64\n",
      "6000/6000 [==============================] - 0s 50us/step - loss: 0.1877 - val_loss: 0.1493\n",
      "Epoch 17/64\n",
      "6000/6000 [==============================] - 0s 49us/step - loss: 0.1834 - val_loss: 0.1854\n",
      "Epoch 18/64\n",
      "6000/6000 [==============================] - 0s 49us/step - loss: 0.1748 - val_loss: 0.2328\n",
      "Epoch 19/64\n",
      "6000/6000 [==============================] - 0s 49us/step - loss: 0.1658 - val_loss: 0.1442\n",
      "Epoch 20/64\n",
      "6000/6000 [==============================] - 0s 48us/step - loss: 0.1830 - val_loss: 0.1436\n",
      "Epoch 21/64\n",
      "6000/6000 [==============================] - 0s 48us/step - loss: 0.1924 - val_loss: 0.2903\n",
      "Epoch 22/64\n",
      "6000/6000 [==============================] - 0s 50us/step - loss: 0.1804 - val_loss: 0.1186\n",
      "Epoch 23/64\n",
      "6000/6000 [==============================] - 0s 49us/step - loss: 0.1606 - val_loss: 0.1162\n",
      "Epoch 24/64\n",
      "6000/6000 [==============================] - 0s 47us/step - loss: 0.1671 - val_loss: 0.1603\n",
      "Epoch 25/64\n",
      "6000/6000 [==============================] - 0s 51us/step - loss: 0.1712 - val_loss: 0.1288\n",
      "Epoch 26/64\n",
      "6000/6000 [==============================] - 0s 51us/step - loss: 0.1622 - val_loss: 0.1216\n",
      "Epoch 27/64\n",
      "6000/6000 [==============================] - 0s 49us/step - loss: 0.1637 - val_loss: 0.1548\n",
      "Epoch 28/64\n",
      "6000/6000 [==============================] - 0s 50us/step - loss: 0.1677 - val_loss: 0.1365\n",
      "Epoch 29/64\n",
      "6000/6000 [==============================] - 0s 50us/step - loss: 0.1811 - val_loss: 0.1244\n",
      "Epoch 30/64\n",
      "6000/6000 [==============================] - 0s 49us/step - loss: 0.1596 - val_loss: 0.1171\n",
      "Epoch 31/64\n",
      "6000/6000 [==============================] - 0s 50us/step - loss: 0.1663 - val_loss: 0.2747\n",
      "Epoch 32/64\n",
      "6000/6000 [==============================] - 0s 78us/step - loss: 0.1720 - val_loss: 0.1280\n",
      "Epoch 33/64\n",
      "6000/6000 [==============================] - 0s 67us/step - loss: 0.1747 - val_loss: 0.2848\n",
      "Epoch 34/64\n",
      "6000/6000 [==============================] - 0s 53us/step - loss: 0.1736 - val_loss: 0.1311\n",
      "Epoch 35/64\n",
      "6000/6000 [==============================] - 0s 52us/step - loss: 0.1720 - val_loss: 0.1184\n",
      "Epoch 36/64\n",
      "6000/6000 [==============================] - 0s 65us/step - loss: 0.1637 - val_loss: 0.1208\n",
      "Epoch 37/64\n",
      "6000/6000 [==============================] - 0s 54us/step - loss: 0.1620 - val_loss: 0.2059\n",
      "Epoch 38/64\n",
      "6000/6000 [==============================] - 0s 55us/step - loss: 0.1578 - val_loss: 0.1745\n",
      "Epoch 39/64\n",
      "6000/6000 [==============================] - 0s 56us/step - loss: 0.1721 - val_loss: 0.1303\n",
      "Epoch 40/64\n",
      "6000/6000 [==============================] - 0s 58us/step - loss: 0.1606 - val_loss: 0.1244\n",
      "Epoch 41/64\n",
      "6000/6000 [==============================] - 0s 70us/step - loss: 0.1535 - val_loss: 0.1177\n",
      "Epoch 42/64\n",
      "6000/6000 [==============================] - 0s 78us/step - loss: 0.1760 - val_loss: 0.2209\n",
      "Epoch 43/64\n",
      "6000/6000 [==============================] - 1s 98us/step - loss: 0.1602 - val_loss: 0.1251\n",
      "Epoch 44/64\n",
      "6000/6000 [==============================] - 1s 88us/step - loss: 0.1616 - val_loss: 0.1916\n",
      "Epoch 45/64\n",
      "6000/6000 [==============================] - 0s 80us/step - loss: 0.1630 - val_loss: 0.1167\n",
      "Epoch 46/64\n",
      "6000/6000 [==============================] - 0s 66us/step - loss: 0.1591 - val_loss: 0.1225\n",
      "Epoch 47/64\n",
      "6000/6000 [==============================] - 0s 56us/step - loss: 0.1663 - val_loss: 0.1160\n",
      "Epoch 48/64\n",
      "6000/6000 [==============================] - 0s 56us/step - loss: 0.1506 - val_loss: 0.1220\n",
      "Epoch 49/64\n",
      "6000/6000 [==============================] - 0s 50us/step - loss: 0.1547 - val_loss: 0.1143\n",
      "Epoch 50/64\n",
      "6000/6000 [==============================] - 0s 50us/step - loss: 0.1695 - val_loss: 0.1213\n",
      "Epoch 51/64\n",
      "6000/6000 [==============================] - 0s 50us/step - loss: 0.1538 - val_loss: 0.2490\n",
      "Epoch 52/64\n",
      "6000/6000 [==============================] - 0s 51us/step - loss: 0.1563 - val_loss: 0.1217\n",
      "Epoch 53/64\n",
      "6000/6000 [==============================] - 0s 48us/step - loss: 0.1622 - val_loss: 0.1553\n",
      "Epoch 54/64\n",
      "6000/6000 [==============================] - 0s 50us/step - loss: 0.1599 - val_loss: 0.2943\n",
      "Epoch 55/64\n",
      "6000/6000 [==============================] - 0s 50us/step - loss: 0.1435 - val_loss: 0.1159\n",
      "Epoch 56/64\n",
      "6000/6000 [==============================] - 0s 53us/step - loss: 0.1579 - val_loss: 0.1678\n",
      "Epoch 57/64\n",
      "6000/6000 [==============================] - 0s 62us/step - loss: 0.1586 - val_loss: 0.1278\n",
      "Epoch 58/64\n",
      "6000/6000 [==============================] - 0s 56us/step - loss: 0.1628 - val_loss: 0.1382\n",
      "Epoch 59/64\n",
      "6000/6000 [==============================] - 0s 56us/step - loss: 0.1500 - val_loss: 0.1223\n",
      "Epoch 60/64\n",
      "6000/6000 [==============================] - 1s 125us/step - loss: 0.1505 - val_loss: 0.1126\n",
      "Epoch 61/64\n",
      "6000/6000 [==============================] - 0s 75us/step - loss: 0.1408 - val_loss: 0.1461\n",
      "Epoch 62/64\n",
      "6000/6000 [==============================] - 0s 59us/step - loss: 0.1543 - val_loss: 0.1444\n",
      "Epoch 63/64\n",
      "6000/6000 [==============================] - 0s 63us/step - loss: 0.1524 - val_loss: 0.1174\n",
      "Epoch 64/64\n",
      "6000/6000 [==============================] - 0s 68us/step - loss: 0.1481 - val_loss: 0.1375\n"
     ]
    },
    {
     "data": {
      "text/plain": [
       "<keras.callbacks.History at 0x12a95c358>"
      ]
     },
     "execution_count": 8,
     "metadata": {},
     "output_type": "execute_result"
    }
   ],
   "source": [
    "from keras.models import Sequential\n",
    "from keras.layers import Dense, Activation\n",
    "def create_model():\n",
    "    model = Sequential()\n",
    "    model.add(Dense(64, input_dim=2))\n",
    "    model.add(Activation('relu'))\n",
    "    model.add(Dense(1))\n",
    "    model.compile(loss='mean_squared_error', optimizer='adam')\n",
    "    return model\n",
    "\n",
    "from keras.wrappers.scikit_learn import KerasRegressor\n",
    "from sklearn.pipeline import Pipeline\n",
    "from sklearn.model_selection import cross_val_score, KFold\n",
    "\n",
    "model = create_model()\n",
    "model.fit(DR_X_train, DR_y_train, epochs=64, batch_size=8, verbose=1,\n",
    "          validation_data=(DR_X_test, DR_y_test))"
   ]
  },
  {
   "cell_type": "code",
   "execution_count": 9,
   "metadata": {
    "pycharm": {
     "is_executing": false,
     "name": "#%%\n"
    }
   },
   "outputs": [
    {
     "name": "stdout",
     "output_type": "stream",
     "text": [
      "4000/4000 [==============================] - 0s 4us/step\n",
      "[[2.9437087]\n",
      " [1.0425532]\n",
      " [1.3725517]\n",
      " ...\n",
      " [0.9742882]\n",
      " [1.9511826]\n",
      " [2.7336533]]\n"
     ]
    }
   ],
   "source": [
    "DR_ann_predictiors = model.predict(DR_X_test, verbose=1)\n",
    "print(DR_ann_predictiors)"
   ]
  },
  {
   "cell_type": "markdown",
   "metadata": {},
   "source": [
    "### Comparison"
   ]
  },
  {
   "cell_type": "code",
   "execution_count": 10,
   "metadata": {
    "pycharm": {
     "is_executing": false,
     "name": "#%%\n"
    }
   },
   "outputs": [
    {
     "data": {
      "text/html": [
       "<div>\n",
       "<style scoped>\n",
       "    .dataframe tbody tr th:only-of-type {\n",
       "        vertical-align: middle;\n",
       "    }\n",
       "\n",
       "    .dataframe tbody tr th {\n",
       "        vertical-align: top;\n",
       "    }\n",
       "\n",
       "    .dataframe thead th {\n",
       "        text-align: right;\n",
       "    }\n",
       "</style>\n",
       "<table border=\"1\" class=\"dataframe\">\n",
       "  <thead>\n",
       "    <tr style=\"text-align: right;\">\n",
       "      <th></th>\n",
       "      <th>LR</th>\n",
       "      <th>RF</th>\n",
       "      <th>ANN</th>\n",
       "      <th>truth</th>\n",
       "    </tr>\n",
       "  </thead>\n",
       "  <tbody>\n",
       "    <tr>\n",
       "      <th>6326</th>\n",
       "      <td>3</td>\n",
       "      <td>4</td>\n",
       "      <td>2</td>\n",
       "      <td>4</td>\n",
       "    </tr>\n",
       "    <tr>\n",
       "      <th>5185</th>\n",
       "      <td>1</td>\n",
       "      <td>1</td>\n",
       "      <td>1</td>\n",
       "      <td>1</td>\n",
       "    </tr>\n",
       "    <tr>\n",
       "      <th>2495</th>\n",
       "      <td>2</td>\n",
       "      <td>1</td>\n",
       "      <td>1</td>\n",
       "      <td>1</td>\n",
       "    </tr>\n",
       "    <tr>\n",
       "      <th>2765</th>\n",
       "      <td>1</td>\n",
       "      <td>1</td>\n",
       "      <td>0</td>\n",
       "      <td>1</td>\n",
       "    </tr>\n",
       "    <tr>\n",
       "      <th>9303</th>\n",
       "      <td>2</td>\n",
       "      <td>3</td>\n",
       "      <td>2</td>\n",
       "      <td>3</td>\n",
       "    </tr>\n",
       "    <tr>\n",
       "      <th>322</th>\n",
       "      <td>0</td>\n",
       "      <td>1</td>\n",
       "      <td>0</td>\n",
       "      <td>1</td>\n",
       "    </tr>\n",
       "    <tr>\n",
       "      <th>4164</th>\n",
       "      <td>0</td>\n",
       "      <td>2</td>\n",
       "      <td>1</td>\n",
       "      <td>2</td>\n",
       "    </tr>\n",
       "    <tr>\n",
       "      <th>7198</th>\n",
       "      <td>3</td>\n",
       "      <td>3</td>\n",
       "      <td>2</td>\n",
       "      <td>3</td>\n",
       "    </tr>\n",
       "    <tr>\n",
       "      <th>2626</th>\n",
       "      <td>3</td>\n",
       "      <td>4</td>\n",
       "      <td>3</td>\n",
       "      <td>4</td>\n",
       "    </tr>\n",
       "    <tr>\n",
       "      <th>4492</th>\n",
       "      <td>4</td>\n",
       "      <td>5</td>\n",
       "      <td>4</td>\n",
       "      <td>5</td>\n",
       "    </tr>\n",
       "    <tr>\n",
       "      <th>6493</th>\n",
       "      <td>1</td>\n",
       "      <td>2</td>\n",
       "      <td>1</td>\n",
       "      <td>2</td>\n",
       "    </tr>\n",
       "    <tr>\n",
       "      <th>8186</th>\n",
       "      <td>1</td>\n",
       "      <td>2</td>\n",
       "      <td>1</td>\n",
       "      <td>2</td>\n",
       "    </tr>\n",
       "    <tr>\n",
       "      <th>3115</th>\n",
       "      <td>1</td>\n",
       "      <td>1</td>\n",
       "      <td>0</td>\n",
       "      <td>1</td>\n",
       "    </tr>\n",
       "    <tr>\n",
       "      <th>4357</th>\n",
       "      <td>1</td>\n",
       "      <td>1</td>\n",
       "      <td>1</td>\n",
       "      <td>1</td>\n",
       "    </tr>\n",
       "    <tr>\n",
       "      <th>2869</th>\n",
       "      <td>2</td>\n",
       "      <td>3</td>\n",
       "      <td>2</td>\n",
       "      <td>3</td>\n",
       "    </tr>\n",
       "    <tr>\n",
       "      <th>4283</th>\n",
       "      <td>2</td>\n",
       "      <td>2</td>\n",
       "      <td>1</td>\n",
       "      <td>2</td>\n",
       "    </tr>\n",
       "    <tr>\n",
       "      <th>862</th>\n",
       "      <td>2</td>\n",
       "      <td>2</td>\n",
       "      <td>2</td>\n",
       "      <td>2</td>\n",
       "    </tr>\n",
       "    <tr>\n",
       "      <th>9177</th>\n",
       "      <td>1</td>\n",
       "      <td>2</td>\n",
       "      <td>1</td>\n",
       "      <td>2</td>\n",
       "    </tr>\n",
       "    <tr>\n",
       "      <th>1277</th>\n",
       "      <td>3</td>\n",
       "      <td>4</td>\n",
       "      <td>3</td>\n",
       "      <td>4</td>\n",
       "    </tr>\n",
       "    <tr>\n",
       "      <th>1939</th>\n",
       "      <td>3</td>\n",
       "      <td>3</td>\n",
       "      <td>2</td>\n",
       "      <td>3</td>\n",
       "    </tr>\n",
       "  </tbody>\n",
       "</table>\n",
       "</div>"
      ],
      "text/plain": [
       "      LR  RF  ANN  truth\n",
       "6326   3   4    2      4\n",
       "5185   1   1    1      1\n",
       "2495   2   1    1      1\n",
       "2765   1   1    0      1\n",
       "9303   2   3    2      3\n",
       "322    0   1    0      1\n",
       "4164   0   2    1      2\n",
       "7198   3   3    2      3\n",
       "2626   3   4    3      4\n",
       "4492   4   5    4      5\n",
       "6493   1   2    1      2\n",
       "8186   1   2    1      2\n",
       "3115   1   1    0      1\n",
       "4357   1   1    1      1\n",
       "2869   2   3    2      3\n",
       "4283   2   2    1      2\n",
       "862    2   2    2      2\n",
       "9177   1   2    1      2\n",
       "1277   3   4    3      4\n",
       "1939   3   3    2      3"
      ]
     },
     "execution_count": 10,
     "metadata": {},
     "output_type": "execute_result"
    }
   ],
   "source": [
    "DR_result = pd.DataFrame({'LR': DR_lr_predictions.astype(int), \n",
    "                          'RF': DR_rf_predictions.astype(int),\n",
    "                          'ANN': [int(p[0]) for p in DR_ann_predictiors.tolist()],\n",
    "                          'truth': DR_y_test})\n",
    "DR_result.head(20)"
   ]
  },
  {
   "cell_type": "code",
   "execution_count": 11,
   "metadata": {},
   "outputs": [
    {
     "data": {
      "text/plain": [
       "<matplotlib.legend.Legend at 0x12eee5e10>"
      ]
     },
     "execution_count": 11,
     "metadata": {},
     "output_type": "execute_result"
    },
    {
     "data": {
      "image/png": "[encoded data removed]",
      "text/plain": [
       "<Figure size 1440x432 with 2 Axes>"
      ]
     },
     "metadata": {
      "needs_background": "light"
     },
     "output_type": "display_data"
    }
   ],
   "source": [
    "import numpy as np\n",
    "import matplotlib.pyplot as plt\n",
    "plt.rcParams[\"figure.figsize\"] = (20,6)\n",
    "\n",
    "holder_index = 2\n",
    "testing = pd.DataFrame({'amount': np.linspace(0, DR_X_test['amount'].max(), 100), 'holder_index': holder_index})\n",
    "sub_test = df[df['holder_index']==holder_index]\n",
    "\n",
    "LR_predictions = DR_lr_pipeline.predict(testing).astype(int)\n",
    "plt.subplot(121)\n",
    "plt.plot(testing['amount'], LR_predictions, color='red', label='Predicted')\n",
    "plt.scatter(sub_test['amount'], sub_test['dispute_risk'], color='black', label='truth')\n",
    "plt.legend()\n",
    "plt.subplot(122)\n",
    "RF_predictions = DR_rf_pipeline.predict(testing).astype(int)\n",
    "plt.plot(testing['amount'], RF_predictions, color='red', label='Predicted')\n",
    "plt.scatter(sub_test['amount'], sub_test['dispute_risk'], color='black', label='truth')\n",
    "plt.legend()"
   ]
  },
  {
   "cell_type": "markdown",
   "metadata": {
    "pycharm": {
     "name": "#%% md\n"
    }
   },
   "source": [
    "## Card Holder (CH) model"
   ]
  },
  {
   "cell_type": "code",
   "execution_count": 12,
   "metadata": {
    "pycharm": {
     "is_executing": false,
     "name": "#%%\n"
    }
   },
   "outputs": [],
   "source": [
    "CH_outputs = df['holder_risk']\n",
    "CH_inputs = df[['age', 'holder_index', 'incidents']]\n",
    "\n",
    "CH_X_train, CH_X_test, CH_y_train, CH_y_test = train_test_split(CH_inputs, CH_outputs, test_size=0.4, random_state=23)"
   ]
  },
  {
   "cell_type": "markdown",
   "metadata": {},
   "source": [
    "### Linear regression"
   ]
  },
  {
   "cell_type": "code",
   "execution_count": 13,
   "metadata": {
    "pycharm": {
     "is_executing": false,
     "name": "#%%\n"
    }
   },
   "outputs": [],
   "source": [
    "CH_lr_pipeline = builder.build_LR_pipeline(CH_X_train, CH_y_train)"
   ]
  },
  {
   "cell_type": "code",
   "execution_count": 14,
   "metadata": {
    "pycharm": {
     "is_executing": false,
     "name": "#%%\n"
    }
   },
   "outputs": [
    {
     "name": "stdout",
     "output_type": "stream",
     "text": [
      "0.6094701245379215\n"
     ]
    }
   ],
   "source": [
    "CH_lr_predictions = CH_lr_pipeline.predict(CH_X_test)\n",
    "print(CH_lr_pipeline.score(CH_X_test, CH_y_test))"
   ]
  },
  {
   "cell_type": "markdown",
   "metadata": {},
   "source": [
    "### Random forest"
   ]
  },
  {
   "cell_type": "code",
   "execution_count": 15,
   "metadata": {},
   "outputs": [
    {
     "name": "stdout",
     "output_type": "stream",
     "text": [
      "Fitting 3 folds for each of 100 candidates, totalling 300 fits\n"
     ]
    },
    {
     "name": "stderr",
     "output_type": "stream",
     "text": [
      "[Parallel(n_jobs=-1)]: Using backend LokyBackend with 8 concurrent workers.\n",
      "[Parallel(n_jobs=-1)]: Done  34 tasks      | elapsed:   17.3s\n",
      "[Parallel(n_jobs=-1)]: Done 184 tasks      | elapsed:  1.4min\n",
      "[Parallel(n_jobs=-1)]: Done 300 out of 300 | elapsed:  2.3min finished\n"
     ]
    },
    {
     "name": "stdout",
     "output_type": "stream",
     "text": [
      "RandomForestRegressor(bootstrap=True, criterion='mse', max_depth=None,\n",
      "                      max_features='auto', max_leaf_nodes=None,\n",
      "                      min_impurity_decrease=0.0, min_impurity_split=None,\n",
      "                      min_samples_leaf=1, min_samples_split=2,\n",
      "                      min_weight_fraction_leaf=0.0, n_estimators=2000,\n",
      "                      n_jobs=None, oob_score=False, random_state=None,\n",
      "                      verbose=0, warm_start=False)\n"
     ]
    }
   ],
   "source": [
    "CH_rf = builder.RF_estimation(CH_X_train, CH_y_train, estimator_steps=5, depth_steps=5)"
   ]
  },
  {
   "cell_type": "code",
   "execution_count": 16,
   "metadata": {
    "pycharm": {
     "is_executing": false,
     "name": "#%%\n"
    }
   },
   "outputs": [],
   "source": [
    "CH_rf_pipeline = builder.build_RF_pipeline(CH_X_train, CH_y_train, CH_rf)"
   ]
  },
  {
   "cell_type": "code",
   "execution_count": 17,
   "metadata": {
    "pycharm": {
     "is_executing": false,
     "name": "#%%\n"
    }
   },
   "outputs": [
    {
     "name": "stdout",
     "output_type": "stream",
     "text": [
      "1.0\n"
     ]
    }
   ],
   "source": [
    "CH_rf_predictions = CH_rf_pipeline.predict(CH_X_test)\n",
    "print(CH_rf_pipeline.score(CH_X_test, CH_y_test))"
   ]
  },
  {
   "cell_type": "code",
   "execution_count": 18,
   "metadata": {
    "pycharm": {
     "is_executing": false,
     "name": "#%%\n"
    }
   },
   "outputs": [
    {
     "data": {
      "text/html": [
       "<div>\n",
       "<style scoped>\n",
       "    .dataframe tbody tr th:only-of-type {\n",
       "        vertical-align: middle;\n",
       "    }\n",
       "\n",
       "    .dataframe tbody tr th {\n",
       "        vertical-align: top;\n",
       "    }\n",
       "\n",
       "    .dataframe thead th {\n",
       "        text-align: right;\n",
       "    }\n",
       "</style>\n",
       "<table border=\"1\" class=\"dataframe\">\n",
       "  <thead>\n",
       "    <tr style=\"text-align: right;\">\n",
       "      <th></th>\n",
       "      <th>LR</th>\n",
       "      <th>RF</th>\n",
       "      <th>truth</th>\n",
       "    </tr>\n",
       "  </thead>\n",
       "  <tbody>\n",
       "    <tr>\n",
       "      <th>6326</th>\n",
       "      <td>0</td>\n",
       "      <td>0</td>\n",
       "      <td>0</td>\n",
       "    </tr>\n",
       "    <tr>\n",
       "      <th>5185</th>\n",
       "      <td>0</td>\n",
       "      <td>1</td>\n",
       "      <td>1</td>\n",
       "    </tr>\n",
       "    <tr>\n",
       "      <th>2495</th>\n",
       "      <td>0</td>\n",
       "      <td>0</td>\n",
       "      <td>0</td>\n",
       "    </tr>\n",
       "    <tr>\n",
       "      <th>2765</th>\n",
       "      <td>0</td>\n",
       "      <td>0</td>\n",
       "      <td>0</td>\n",
       "    </tr>\n",
       "    <tr>\n",
       "      <th>9303</th>\n",
       "      <td>2</td>\n",
       "      <td>4</td>\n",
       "      <td>4</td>\n",
       "    </tr>\n",
       "    <tr>\n",
       "      <th>322</th>\n",
       "      <td>0</td>\n",
       "      <td>0</td>\n",
       "      <td>0</td>\n",
       "    </tr>\n",
       "    <tr>\n",
       "      <th>4164</th>\n",
       "      <td>1</td>\n",
       "      <td>1</td>\n",
       "      <td>1</td>\n",
       "    </tr>\n",
       "    <tr>\n",
       "      <th>7198</th>\n",
       "      <td>0</td>\n",
       "      <td>0</td>\n",
       "      <td>0</td>\n",
       "    </tr>\n",
       "    <tr>\n",
       "      <th>2626</th>\n",
       "      <td>1</td>\n",
       "      <td>1</td>\n",
       "      <td>1</td>\n",
       "    </tr>\n",
       "    <tr>\n",
       "      <th>4492</th>\n",
       "      <td>0</td>\n",
       "      <td>1</td>\n",
       "      <td>1</td>\n",
       "    </tr>\n",
       "    <tr>\n",
       "      <th>6493</th>\n",
       "      <td>0</td>\n",
       "      <td>0</td>\n",
       "      <td>0</td>\n",
       "    </tr>\n",
       "    <tr>\n",
       "      <th>8186</th>\n",
       "      <td>0</td>\n",
       "      <td>0</td>\n",
       "      <td>0</td>\n",
       "    </tr>\n",
       "    <tr>\n",
       "      <th>3115</th>\n",
       "      <td>0</td>\n",
       "      <td>0</td>\n",
       "      <td>0</td>\n",
       "    </tr>\n",
       "    <tr>\n",
       "      <th>4357</th>\n",
       "      <td>0</td>\n",
       "      <td>0</td>\n",
       "      <td>0</td>\n",
       "    </tr>\n",
       "    <tr>\n",
       "      <th>2869</th>\n",
       "      <td>1</td>\n",
       "      <td>4</td>\n",
       "      <td>4</td>\n",
       "    </tr>\n",
       "    <tr>\n",
       "      <th>4283</th>\n",
       "      <td>0</td>\n",
       "      <td>0</td>\n",
       "      <td>0</td>\n",
       "    </tr>\n",
       "    <tr>\n",
       "      <th>862</th>\n",
       "      <td>1</td>\n",
       "      <td>3</td>\n",
       "      <td>3</td>\n",
       "    </tr>\n",
       "    <tr>\n",
       "      <th>9177</th>\n",
       "      <td>0</td>\n",
       "      <td>0</td>\n",
       "      <td>0</td>\n",
       "    </tr>\n",
       "    <tr>\n",
       "      <th>1277</th>\n",
       "      <td>0</td>\n",
       "      <td>1</td>\n",
       "      <td>1</td>\n",
       "    </tr>\n",
       "    <tr>\n",
       "      <th>1939</th>\n",
       "      <td>0</td>\n",
       "      <td>0</td>\n",
       "      <td>0</td>\n",
       "    </tr>\n",
       "  </tbody>\n",
       "</table>\n",
       "</div>"
      ],
      "text/plain": [
       "      LR  RF  truth\n",
       "6326   0   0      0\n",
       "5185   0   1      1\n",
       "2495   0   0      0\n",
       "2765   0   0      0\n",
       "9303   2   4      4\n",
       "322    0   0      0\n",
       "4164   1   1      1\n",
       "7198   0   0      0\n",
       "2626   1   1      1\n",
       "4492   0   1      1\n",
       "6493   0   0      0\n",
       "8186   0   0      0\n",
       "3115   0   0      0\n",
       "4357   0   0      0\n",
       "2869   1   4      4\n",
       "4283   0   0      0\n",
       "862    1   3      3\n",
       "9177   0   0      0\n",
       "1277   0   1      1\n",
       "1939   0   0      0"
      ]
     },
     "execution_count": 18,
     "metadata": {},
     "output_type": "execute_result"
    }
   ],
   "source": [
    "CH_result = pd.DataFrame({'LR': CH_lr_predictions.astype(int), 'RF': CH_rf_predictions.astype(int), 'truth': CH_y_test})\n",
    "CH_result.head(20)"
   ]
  },
  {
   "cell_type": "code",
   "execution_count": null,
   "metadata": {},
   "outputs": [],
   "source": []
  }
 ],
 "metadata": {
  "kernelspec": {
   "display_name": "Python [conda env:risk-pmml-builder] *",
   "language": "python",
   "name": "conda-env-risk-pmml-builder-py"
  },
  "language_info": {
   "codemirror_mode": {
    "name": "ipython",
    "version": 3
   },
   "file_extension": ".py",
   "mimetype": "text/x-python",
   "name": "python",
   "nbconvert_exporter": "python",
   "pygments_lexer": "ipython3",
   "version": "3.7.3"
  },
  "pycharm": {
   "stem_cell": {
    "cell_type": "raw",
    "metadata": {
     "collapsed": false
    },
    "source": []
   }
  }
 },
 "nbformat": 4,
 "nbformat_minor": 1
}
